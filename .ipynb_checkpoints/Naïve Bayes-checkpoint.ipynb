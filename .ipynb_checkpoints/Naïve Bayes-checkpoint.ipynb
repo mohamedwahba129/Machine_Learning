{
 "cells": [
  {
   "cell_type": "code",
   "execution_count": 1,
   "metadata": {
    "id": "OihQBdUZw6Vg"
   },
   "outputs": [
    {
     "name": "stderr",
     "output_type": "stream",
     "text": [
      "[nltk_data] Downloading package wordnet to\n",
      "[nltk_data]     C:\\Users\\Nada\\AppData\\Roaming\\nltk_data...\n",
      "[nltk_data]   Package wordnet is already up-to-date!\n"
     ]
    }
   ],
   "source": [
    "import wordcloud\n",
    "import numpy as np\n",
    "import pandas as pd\n",
    "\n",
    "import nltk\n",
    "nltk.download('wordnet')\n",
    "from sklearn.feature_extraction.text import CountVectorizer\n",
    "from sklearn.naive_bayes import MultinomialNB\n",
    "from sklearn.model_selection import train_test_split\n",
    "from sklearn.metrics import accuracy_score, confusion_matrix, f1_score\n",
    "from nltk.corpus import stopwords\n",
    "from nltk.stem.wordnet import WordNetLemmatizer\n",
    "\n",
    "%matplotlib inline"
   ]
  },
  {
   "cell_type": "code",
   "execution_count": 2,
   "metadata": {},
   "outputs": [],
   "source": [
    "from nltk.tokenize import RegexpTokenizer\n",
    "from nltk.corpus import wordnet\n",
    "from sklearn import metrics\n",
    "from keras.utils import np_utils\n",
    "#from keras.layers.core import Dense, Dropout, Activation, Lambda\n",
    "from collections import defaultdict\n",
    "from keras.layers.embeddings import Embedding\n",
    "from keras.callbacks import EarlyStopping"
   ]
  },
  {
   "cell_type": "code",
   "execution_count": 3,
   "metadata": {},
   "outputs": [
    {
     "name": "stdout",
     "output_type": "stream",
     "text": [
      "<class 'pandas.core.frame.DataFrame'>\n",
      "Int64Index: 1048548 entries, 0 to 1048574\n",
      "Data columns (total 3 columns):\n",
      " #   Column    Non-Null Count    Dtype \n",
      "---  ------    --------------    ----- \n",
      " 0   polarity  1048548 non-null  int64 \n",
      " 1   title     1048548 non-null  object\n",
      " 2   text      1048548 non-null  object\n",
      "dtypes: int64(1), object(2)\n",
      "memory usage: 32.0+ MB\n"
     ]
    }
   ],
   "source": [
    "data = pd.read_csv('train.csv')\n",
    "# 3shan ashil error l AttributeError: 'float' object has no attribute 'lower'\n",
    "#data.SentimentText=data.SentimentText.astype(str)\n",
    "data = data.dropna()\n",
    "data.columns =['polarity','title','text',]\n",
    "data.info()"
   ]
  },
  {
   "cell_type": "code",
   "execution_count": 4,
   "metadata": {},
   "outputs": [
    {
     "name": "stdout",
     "output_type": "stream",
     "text": [
      "\n",
      "\n"
     ]
    },
    {
     "data": {
      "text/plain": [
       "1048548"
      ]
     },
     "execution_count": 4,
     "metadata": {},
     "output_type": "execute_result"
    }
   ],
   "source": [
    "data['text'].head()\n",
    "print('\\n')\n",
    "data['text'].count()"
   ]
  },
  {
   "cell_type": "code",
   "execution_count": 5,
   "metadata": {},
   "outputs": [],
   "source": [
    "stop_words = stopwords.words('english')"
   ]
  },
  {
   "cell_type": "code",
   "execution_count": 6,
   "metadata": {},
   "outputs": [],
   "source": [
    "wordnet_lemmatizer = WordNetLemmatizer()\n",
    "tokenizer = RegexpTokenizer(r'[a-z]+')\n",
    "\n",
    "def preprocess(document):\n",
    "    document = document.lower() # Convert to lowercase\n",
    "    words = tokenizer.tokenize(document) # Tokenize\n",
    "    words = [w for w in words if not w in stop_words] # Removing stopwords\n",
    "    # Lemmatizing\n",
    "    for pos in [wordnet.NOUN, wordnet.VERB, wordnet.ADJ, wordnet.ADV]:\n",
    "        words = [wordnet_lemmatizer.lemmatize(x, pos) for x in words]\n",
    "    return \" \".join(words)"
   ]
  },
  {
   "cell_type": "code",
   "execution_count": 7,
   "metadata": {},
   "outputs": [],
   "source": [
    "data['text'] = data['text'].apply(preprocess)"
   ]
  },
  {
   "cell_type": "code",
   "execution_count": 26,
   "metadata": {},
   "outputs": [
    {
     "data": {
      "text/plain": [
       "2    530148\n",
       "1    518400\n",
       "Name: polarity, dtype: int64"
      ]
     },
     "execution_count": 26,
     "metadata": {},
     "output_type": "execute_result"
    }
   ],
   "source": [
    "data['polarity'].value_counts()"
   ]
  },
  {
   "cell_type": "code",
   "execution_count": 27,
   "metadata": {},
   "outputs": [
    {
     "data": {
      "text/html": [
       "<div>\n",
       "<style scoped>\n",
       "    .dataframe tbody tr th:only-of-type {\n",
       "        vertical-align: middle;\n",
       "    }\n",
       "\n",
       "    .dataframe tbody tr th {\n",
       "        vertical-align: top;\n",
       "    }\n",
       "\n",
       "    .dataframe thead tr th {\n",
       "        text-align: left;\n",
       "    }\n",
       "\n",
       "    .dataframe thead tr:last-of-type th {\n",
       "        text-align: right;\n",
       "    }\n",
       "</style>\n",
       "<table border=\"1\" class=\"dataframe\">\n",
       "  <thead>\n",
       "    <tr>\n",
       "      <th></th>\n",
       "      <th colspan=\"4\" halign=\"left\">text</th>\n",
       "    </tr>\n",
       "    <tr>\n",
       "      <th></th>\n",
       "      <th>count</th>\n",
       "      <th>unique</th>\n",
       "      <th>top</th>\n",
       "      <th>freq</th>\n",
       "    </tr>\n",
       "    <tr>\n",
       "      <th>polarity</th>\n",
       "      <th></th>\n",
       "      <th></th>\n",
       "      <th></th>\n",
       "      <th></th>\n",
       "    </tr>\n",
       "  </thead>\n",
       "  <tbody>\n",
       "    <tr>\n",
       "      <th>1</th>\n",
       "      <td>518400</td>\n",
       "      <td>517614</td>\n",
       "      <td>name</td>\n",
       "      <td>9</td>\n",
       "    </tr>\n",
       "    <tr>\n",
       "      <th>2</th>\n",
       "      <td>530148</td>\n",
       "      <td>529808</td>\n",
       "      <td>name</td>\n",
       "      <td>21</td>\n",
       "    </tr>\n",
       "  </tbody>\n",
       "</table>\n",
       "</div>"
      ],
      "text/plain": [
       "            text                   \n",
       "           count  unique   top freq\n",
       "polarity                           \n",
       "1         518400  517614  name    9\n",
       "2         530148  529808  name   21"
      ]
     },
     "execution_count": 27,
     "metadata": {},
     "output_type": "execute_result"
    }
   ],
   "source": [
    "data2 = data[[\"polarity\",\"text\"]]\n",
    "data2.groupby('polarity').describe()"
   ]
  },
  {
   "cell_type": "markdown",
   "metadata": {},
   "source": [
    "# Training testing"
   ]
  },
  {
   "cell_type": "code",
   "execution_count": 28,
   "metadata": {},
   "outputs": [],
   "source": [
    "x_train, x_test, y_train, y_test = train_test_split(data['text'], data['polarity'], random_state=0,test_size = 0.25)"
   ]
  },
  {
   "cell_type": "code",
   "execution_count": 29,
   "metadata": {},
   "outputs": [
    {
     "name": "stdout",
     "output_type": "stream",
     "text": [
      "2    530148\n",
      "1    518400\n",
      "Name: polarity, dtype: int64\n"
     ]
    }
   ],
   "source": [
    "print(data['polarity'].value_counts())"
   ]
  },
  {
   "cell_type": "code",
   "execution_count": 30,
   "metadata": {},
   "outputs": [
    {
     "name": "stdout",
     "output_type": "stream",
     "text": [
      "x_train shape: (786411,)\n",
      "y_train shape: (786411,)\n",
      "\n",
      "x_test shape: (262137,)\n",
      "y_test shape: (262137,)\n",
      "\n"
     ]
    }
   ],
   "source": [
    "print(\"x_train shape: {}\".format(x_train.shape), end='\\n')\n",
    "print(\"y_train shape: {}\".format(y_train.shape), end='\\n\\n')\n",
    "print(\"x_test shape: {}\".format(x_test.shape), end='\\n')\n",
    "print(\"y_test shape: {}\".format(y_test.shape), end='\\n\\n')"
   ]
  },
  {
   "cell_type": "code",
   "execution_count": 31,
   "metadata": {},
   "outputs": [
    {
     "data": {
      "text/plain": [
       "614927    get seat son day ago love month old almost rea...\n",
       "88430     lie long dvd minute description disappoint als...\n",
       "380622    blink late release know untitled hype new blin...\n",
       "982426    thing readout scale instruction read htem swr ...\n",
       "775144    price device truly offer great value connectio...\n",
       "                                ...                        \n",
       "963421    love movie happy finally convenient video library\n",
       "117955    last great rush album hold fire two follow ok ...\n",
       "435841    thank diane believe feel ki part u high price ...\n",
       "305723    discuss son financial difficulty cpa recommend...\n",
       "985799    son month old absoutely love youtube gummy bea...\n",
       "Name: text, Length: 786411, dtype: object"
      ]
     },
     "execution_count": 31,
     "metadata": {},
     "output_type": "execute_result"
    }
   ],
   "source": [
    "x_train\n"
   ]
  },
  {
   "cell_type": "code",
   "execution_count": 32,
   "metadata": {},
   "outputs": [
    {
     "name": "stdout",
     "output_type": "stream",
     "text": [
      "X_train:\n",
      "<786411x59524 sparse matrix of type '<class 'numpy.int64'>'\n",
      "\twith 24729004 stored elements in Compressed Sparse Row format>\n"
     ]
    }
   ],
   "source": [
    "# Vectorize X_train\n",
    "vectorizer = CountVectorizer(min_df=5).fit(x_train)\n",
    "X_train = vectorizer.transform(x_train)\n",
    "print(\"X_train:\\n{}\".format(repr(X_train)))"
   ]
  },
  {
   "cell_type": "code",
   "execution_count": 33,
   "metadata": {},
   "outputs": [
    {
     "name": "stdout",
     "output_type": "stream",
     "text": [
      "Number of features: 59524\n"
     ]
    }
   ],
   "source": [
    "feature_names = vectorizer.get_feature_names()\n",
    "print(\"Number of features: {}\".format(len(feature_names)))"
   ]
  },
  {
   "cell_type": "code",
   "execution_count": 36,
   "metadata": {},
   "outputs": [
    {
     "name": "stdout",
     "output_type": "stream",
     "text": [
      "Show some feature names : \n",
      " ['aa', 'abberline', 'ableto', 'abrams', 'absorbency', 'acacia', 'accidentaly', 'accuracy', 'acidity', 'acr', 'actuacion', 'adamson', 'adelante', 'adler', 'adore', 'adverse', 'aerogrow', 'afford', 'afterglow', 'aggrandize', 'agoraphobic', 'ahmad', 'airborn', 'aja', 'alarm', 'albuquerque', 'alert', 'ali', 'allegation', 'allover', 'along', 'altavista', 'alva', 'amason', 'ambivalence', 'amethyst', 'amon', 'amusement', 'anarchist', 'andersen', 'andwas', 'anglos', 'anna', 'anodize', 'antecdotes', 'antipathy', 'anycom', 'apalled', 'apocolyptic', 'appear', 'applicable', 'appropriateness', 'aquaintances', 'araya', 'arcitec', 'argus', 'armando', 'aronofsky', 'arsenic', 'artisit', 'ascii', 'asit', 'assassination', 'assuredly', 'asv', 'atic', 'attachable', 'attolia', 'audio', 'aur', 'authoritarian', 'autora', 'ave', 'avr', 'awry', 'azar', 'babyliss', 'backhoe', 'bacterial', 'bagger', 'bal', 'ballet', 'bancroft', 'banke', 'barbie', 'barman', 'barstow', 'basie', 'batali', 'battletech', 'bbok', 'beam', 'beattles', 'becaused', 'bedtime', 'begala', 'beign', 'believable', 'bellyache', 'benevolence', 'berate', 'bernanke', 'bestie', 'beulah', 'bia', 'biel', 'bille', 'biographer', 'birdsey', 'bitchiness', 'bkn', 'blad', 'blatantly', 'blimp', 'blonde', 'bls', 'blury', 'bobo', 'bogey', 'boldness', 'bondi', 'booger', 'bookwas', 'bootlegger', 'boringness', 'bostridge', 'boulder', 'bowtie', 'braddock', 'brandenburg', 'brawler', 'breast', 'brent', 'briel', 'brioche', 'bro', 'bronco', 'brubaker', 'bryant', 'buchan', 'buendia', 'buld', 'bump', 'burdon', 'burroughs', 'butch', 'buyer', 'ca', 'caddyshack', 'cake', 'caligraphy', 'calvinist', 'camino', 'cancion', 'cannibalistic', 'capablities', 'caprice', 'carbine', 'carella', 'carmilla', 'carre', 'cartrages', 'cassandra', 'catagorized', 'cathcy', 'cautionary', 'cctv', 'celebration', 'censorship', 'cersei', 'ch', 'chalmers', 'chantry', 'characthers', 'charlemagne', 'chatter', 'checkable', 'chek', 'chest', 'chico', 'chimera', 'chivalrous', 'chopper', 'christensen', 'chrous', 'ciara', 'cinematographic', 'ciscopress', 'clair', 'claro', 'clayburgh', 'clep', 'clinch', 'closeness', 'clunker', 'coat', 'code', 'cognac', 'coldn', 'collectin', 'colonize', 'comapny', 'comfort', 'commentate', 'commune', 'compasion', 'complaing', 'complimentary', 'compress', 'concealment', 'conclusive', 'condor', 'confiscate', 'congressman', 'conoc', 'considerado', 'constituency', 'contary', 'continue', 'control', 'conveyance', 'cooley', 'copiously', 'corduroy', 'cornfield', 'correspond', 'cosimo', 'coughlin', 'counterweight', 'couture', 'coz', 'craiglist', 'crater', 'cred', 'crest', 'crispness', 'croce', 'crosshairs', 'cruiserweight', 'crypto', 'cubby', 'cullum', 'cur', 'curve', 'cutlas', 'cyclist', 'dacascos', 'dalai', 'dan', 'danny', 'darkfever', 'dashwood', 'daxter', 'deacon', 'deathlands', 'debug', 'decibel', 'deconstruction', 'deepak', 'deffective', 'definitey', 'degeneres', 'dejohnette', 'delievers', 'delta', 'democratically', 'denis', 'depalma', 'depress', 'derry', 'descritpion', 'desparate', 'destructiveness', 'detox', 'deviance', 'dexterity', 'diagree', 'dibdin', 'diddnt', 'diff', 'diga', 'dil', 'dimmable', 'dioxide', 'dirve', 'disappontment', 'discomforting', 'discus', 'dishnetwork', 'dismember', 'displacement', 'dissapointed', 'distaste', 'dit', 'dixie', 'dnt', 'dodie', 'dolan', 'domingo', 'donor', 'doppelganger', 'dosent', 'doulton', 'downtrodden', 'dragonfly', 'drawbridge', 'drench', 'droopy', 'drusilla', 'ducati', 'duking', 'dundee', 'durant', 'dux', 'dynamic', 'eared', 'earthway', 'eazy', 'eclectic', 'edelman', 'edtv', 'efficently', 'egoscue', 'eisenman', 'elbow', 'electronica', 'elia', 'ellington', 'elusive', 'embarressment', 'emigre', 'emp', 'enamel', 'encyclopaedic', 'energentic', 'engrave', 'enoch', 'entendre', 'entourage', 'envious', 'epica', 'epps', 'eradicate', 'ernestine', 'escadrille', 'esk', 'espn', 'estelle', 'eth', 'etymotics', 'eval', 'eventualy', 'everynow', 'evolutionary', 'exalt', 'excepcional', 'excorcist', 'exeption', 'existance', 'expectantly', 'expesive', 'explore', 'exspect', 'extraordinarily', 'eyecandy', 'face', 'fagan', 'faker', 'familar', 'fanfiction', 'faq', 'farris', 'fata', 'faviorite', 'fcc', 'federer', 'felicity', 'fenton', 'festive', 'fhm', 'fiel', 'filet', 'finally', 'finley', 'firepower', 'fishy', 'flabby', 'flashback', 'flcl', 'flimsiness', 'flora', 'fluently', 'foam', 'folk', 'foolhardy', 'foreclosure', 'forgivable', 'forrester', 'forwarn', 'foxey', 'frame', 'franny', 'fredericksburg', 'freinds', 'frickin', 'frisbe', 'frontin', 'frypan', 'fulbright', 'fundementals', 'furland', 'futuro', 'gadfly', 'galbraith', 'gameface', 'gansters', 'garion', 'gastby', 'gauss', 'gearhead', 'geller', 'geneva', 'genx', 'gerd', 'getcha', 'ghostface', 'gigabyte', 'gimlet', 'girl', 'gladly', 'glib', 'glossery', 'gnash', 'godfather', 'gojira', 'gon', 'goodyear', 'gorey', 'gothic', 'gpu', 'grafic', 'grandes', 'grapics', 'grayson', 'greenfield', 'grey', 'grindingly', 'grom', 'grover', 'grungey', 'guarentee', 'guignol', 'gumball', 'guranteed', 'gutting', 'gyration', 'hacksaw', 'hahaha', 'hal', 'halsey', 'hancock', 'handwritten', 'hapiness', 'hardcovered', 'harlem', 'harriet', 'haskins', 'hatter', 'hawker', 'hci', 'headroom', 'heartbreakingly', 'heavyness', 'hefti', 'helicopter', 'helpfully', 'henrik', 'hereos', 'herramientas', 'hewett', 'hidalgo', 'hightened', 'hillsongs', 'hippocrene', 'hitachi', 'hoakey', 'hofstadter', 'holley', 'homedepot', 'hominid', 'honkytonk', 'hopefull', 'horne', 'hort', 'hotties', 'howerver', 'hu', 'hugo', 'humidify', 'hungary', 'hussain', 'hydro', 'hypnosis', 'iberia', 'iconography', 'idiocy', 'iggulden', 'ikeda', 'illustrate', 'imbalanced', 'immedietly', 'impart', 'implication', 'impression', 'inaccurate', 'incapability', 'incoherence', 'incorperate', 'indecent', 'indicitive', 'indoor', 'inevitable', 'inferno', 'influnce', 'ingalls', 'inhumane', 'inmature', 'inopportune', 'inseparable', 'inspite', 'instruct', 'intact', 'intensely', 'interestingly', 'intermix', 'interscope', 'intire', 'introductory', 'inventor', 'inwardly', 'iranian', 'irreconcilable', 'irwin', 'isola', 'itas', 'ittle', 'izod', 'jad', 'jame', 'janus', 'jax', 'jeb', 'jenner', 'jet', 'jihad', 'jmt', 'jogger', 'jonah', 'josie', 'jpop', 'judo', 'july', 'juror', 'kabar', 'kam', 'karana', 'katana', 'kayla', 'keen', 'kemp', 'kerensky', 'keyfit', 'kickoff', 'killer', 'kinescope', 'kirkpatrick', 'kj', 'kmfdm', 'knotwork', 'kohler', 'korda', 'kraft', 'kristen', 'kuddos', 'kutless', 'laborious', 'ladie', 'lait', 'lamm', 'lanegan', 'lapierre', 'laserdiscs', 'latin', 'laurell', 'lawyer', 'leadon', 'leavell', 'leeze', 'legrand', 'len', 'leonardi', 'lestat', 'levitation', 'liang', 'lick', 'lifetime', 'likelyhood', 'limn', 'linkin', 'lisas', 'liten', 'liturgical', 'llegado', 'lobe', 'loesser', 'lollipop', 'longterm', 'loophole', 'lose', 'loupe', 'lovingly', 'ltc', 'luck', 'lukin', 'lure', 'lycans', 'lyris', 'macgowan', 'macpherson', 'madre', 'magistrate', 'mahalia', 'maintainence', 'malachi', 'malkin', 'mammal', 'mandrell', 'manifest', 'mansfield', 'maoist', 'marengo', 'marinator', 'marmaduke', 'marti', 'maslow', 'mastery', 'mathematician', 'matto', 'maximal', 'maytag', 'mcclaine', 'mcdormand', 'mchugh', 'mcmurry', 'meal', 'mechanism', 'mediocare', 'megan', 'melee', 'meltdown', 'menard', 'meny', 'meriwether', 'messala', 'mete', 'mex', 'mich', 'microphoto', 'midriff', 'mihoshi', 'militia', 'miltary', 'mineral', 'minnesota', 'miramax', 'misconduct', 'mismas', 'missy', 'mitutoyo', 'mmmm', 'mod', 'moebius', 'molar', 'monaghan', 'monochrome', 'montand', 'moonfleet', 'morbidly', 'morman', 'morten', 'mote', 'motorway', 'mov', 'mp', 'mtm', 'muggle', 'multidisciplinary', 'mun', 'murphy', 'musicianship', 'mutilation', 'myopia', 'naacp', 'naivete', 'nape', 'nary', 'nationality', 'navarro', 'nearby', 'needa', 'nehru', 'neosporin', 'netware', 'nevil', 'newspeak', 'niave', 'nicola', 'nightime', 'nimble', 'nitpick', 'noche', 'nomatter', 'nontoxic', 'normalize', 'nostromo', 'notthing', 'nowi', 'nudist', 'nun', 'nuzzle', 'oaky', 'objectivist', 'obsolescence', 'occasionally', 'octet', 'oeil', 'offshore', 'ohmsford', 'oldfashioned', 'olympic', 'onces', 'onscreen', 'oopsie', 'opinon', 'oprah', 'orbital', 'organic', 'originality', 'ornithologist', 'oscillator', 'otherhand', 'ouside', 'outlet', 'outtake', 'overcome', 'overload', 'oversleep', 'owc', 'paavo', 'paetro', 'pais', 'palmer', 'pandemic', 'papacy', 'paradiso', 'pare', 'parnell', 'particulate', 'passible', 'paternalistic', 'patrol', 'pawel', 'pdes', 'pecan', 'peerless', 'pelvis', 'pennywise', 'peppermill', 'perdido', 'perfumy', 'permission', 'perseus', 'persue', 'pete', 'pfaltzgraff', 'pharoh', 'philes', 'phobia', 'php', 'picciotto', 'pied', 'pillage', 'pinnochio', 'pistoulet', 'pixter', 'plaisir', 'platitude', 'playoff', 'plesure', 'plume', 'poacher', 'poignancy', 'polemical', 'pollution', 'pomposity', 'poop', 'populist', 'portentous', 'positional', 'postino', 'potrait', 'powerex', 'prabably', 'praxis', 'preciso', 'preemie', 'prejudge', 'prepped', 'presets', 'pretentiousness', 'prick', 'principled', 'priviledge', 'problematic', 'prodigal', 'proffesor', 'progresive', 'promoter', 'proper', 'prospector', 'protrayed', 'prue', 'psych', 'pta', 'puerile', 'pumper', 'purcasing', 'purity', 'putrid', 'pz', 'quaility', 'quarterly', 'querida', 'quietness', 'quixote', 'race', 'radically', 'ragnarok', 'raise', 'ramotswe', 'ransack', 'rascism', 'rau', 'raz', 'reade', 'realign', 'reappearance', 'reborn', 'receipes', 'recieve', 'recomend', 'reconize', 'recuperate', 'rediculus', 'reelection', 'reflective', 'refurbishment', 'regreat', 'reiki', 'reivews', 'relayer', 'relistened', 'remedios', 'remoting', 'renny', 'repayment', 'replace', 'reprimand', 'rerelease', 'residency', 'respectively', 'restoration', 'retardation', 'retry', 'reverence', 'revolutionary', 'rhe', 'ri', 'riddance', 'riga', 'rin', 'ripto', 'rixon', 'rob', 'roche', 'rodin', 'rolicking', 'romanza', 'roomate', 'rosen', 'roti', 'rowboat', 'rsvp', 'rudder', 'rumania', 'rushdie', 'ryan', 'sabato', 'sacketts', 'safety', 'sake', 'salman', 'sami', 'sandford', 'sant', 'sardonic', 'saterday', 'sauna', 'saxton', 'scandal', 'scarwid', 'schaap', 'schlink', 'schoolwork', 'scintilating', 'scotia', 'scream', 'scrooged', 'sdtv', 'seashore', 'secretly', 'seel', 'seis', 'semana', 'sender', 'sensitize', 'seperated', 'serendipitous', 'serpent', 'setup', 'sexuality', 'shaggy', 'shameless', 'sharer', 'shead', 'shelties', 'shia', 'shirer', 'shonda', 'shotting', 'shrapnel', 'shugak', 'sice', 'siebel', 'signify', 'silverman', 'simms', 'sincerly', 'siouxie', 'situate', 'skeleton', 'skippyjon', 'slander', 'sleepin', 'slimmed', 'slot', 'smae', 'smilla', 'smugly', 'sniff', 'snowboarder', 'socal', 'sofad', 'solaris', 'solvent', 'somgs', 'sonicstage', 'soothe', 'sorry', 'soundblaster', 'souther', 'spade', 'spartacus', 'specific', 'speilberg', 'spidery', 'spiritualist', 'spoil', 'sposed', 'sproul', 'squarish', 'sreaming', 'stackable', 'stalone', 'stapler', 'starscream', 'statis', 'steamboy', 'steingarten', 'stereophonics', 'sthe', 'stillness', 'stochastic', 'stooge', 'stout', 'strangly', 'streach', 'stricken', 'stroud', 'stuffies', 'style', 'subhuman', 'subservient', 'subversion', 'suckered', 'sufice', 'sulla', 'sunburnt', 'superbad', 'supernaturalist', 'supportees', 'surely', 'surveillance', 'sustain', 'swahili', 'sweeny', 'swipe', 'syfy', 'symptons', 'synths', 'tableware', 'tahn', 'talant', 'tambourine', 'tantalise', 'tarkan', 'tate', 'taylor', 'teal', 'technolgy', 'teether', 'telephone', 'templar', 'tengan', 'teriyaki', 'terrorize', 'textbook', 'thankgod', 'theaterical', 'themain', 'thepeople', 'theron', 'thicket', 'thios', 'thoguht', 'thoughtfulness', 'thrifty', 'thu', 'thy', 'tiesto', 'timbaland', 'timmins', 'tipo', 'titular', 'toanyone', 'togeather', 'tolliver', 'tonight', 'topher', 'torque', 'totality', 'tourism', 'toyrus', 'tradicional', 'trampoline', 'transend', 'transparent', 'traversauthor', 'trellis', 'triana', 'trilok', 'triumphant', 'trott', 'truely', 'tsh', 'tudyk', 'tuon', 'turok', 'tweed', 'twitchy', 'typical', 'udall', 'uknown', 'umbilical', 'unadvertised', 'unbaised', 'uncaptivating', 'uncomplimentary', 'undamaged', 'undergroud', 'undertanding', 'undistinguished', 'unequaled', 'unfeasible', 'unfortunitely', 'unica', 'unintelligable', 'universally', 'unlovable', 'unobtrusive', 'unpredictability', 'unrecognisable', 'unsanitary', 'unsolvable', 'unsweetened', 'unvarnished', 'upconvert', 'upsidedown', 'uris', 'usher', 'utmost', 'vacuousness', 'valid', 'vanderbilt', 'varity', 'vd', 'veiw', 'veni', 'verdi', 'verrrrry', 'vestige', 'vibrantly', 'video', 'vig', 'villin', 'violinist', 'vision', 'vittorio', 'vocab', 'volcals', 'voraciously', 'vuelve', 'wacky', 'waiter', 'waller', 'want', 'warmups', 'washout', 'waterbed', 'wattage', 'wea', 'websphere', 'weightloss', 'wellknown', 'westbend', 'whacker', 'wheatley', 'whick', 'whitacre', 'whoare', 'wi', 'wifi', 'wilhelm', 'wilmot', 'windy', 'winterland', 'wishin', 'witht', 'wo', 'wonderfully', 'woodturning', 'wordy', 'worldy', 'woudn', 'wrench', 'wrose', 'wuxia', 'xbr', 'xpander', 'yah', 'yasha', 'yellowcard', 'yipping', 'yorkshire', 'yout', 'yuma', 'zaniness', 'zelandonii', 'zillionth', 'zoloft', 'zune']\n"
     ]
    }
   ],
   "source": [
    "print(\"Show some feature names : \\n\", vectorizer.get_feature_names()[::50])"
   ]
  },
  {
   "cell_type": "code",
   "execution_count": 37,
   "metadata": {},
   "outputs": [
    {
     "data": {
      "text/plain": [
       "MultinomialNB()"
      ]
     },
     "execution_count": 37,
     "metadata": {},
     "output_type": "execute_result"
    }
   ],
   "source": [
    "mnb = MultinomialNB()\n",
    "mnb.fit(X_train, y_train)"
   ]
  },
  {
   "cell_type": "code",
   "execution_count": 38,
   "metadata": {},
   "outputs": [],
   "source": [
    "X_test = vectorizer.transform(x_test)"
   ]
  },
  {
   "cell_type": "code",
   "execution_count": 39,
   "metadata": {},
   "outputs": [],
   "source": [
    "# Predicting the Test set results  \n",
    "y_pred =mnb.predict(X_test)"
   ]
  },
  {
   "cell_type": "code",
   "execution_count": 40,
   "metadata": {},
   "outputs": [
    {
     "name": "stdout",
     "output_type": "stream",
     "text": [
      "Accuracy: 0.8198575554004204\n"
     ]
    }
   ],
   "source": [
    "#Import scikit-learn metrics module for accuracy calculation\n",
    "from sklearn import metrics\n",
    "\n",
    "# Model Accuracy: how often is the classifier correct?\n",
    "print(\"Accuracy:\",metrics.accuracy_score(y_test, y_pred))"
   ]
  },
  {
   "cell_type": "code",
   "execution_count": 41,
   "metadata": {},
   "outputs": [
    {
     "name": "stdout",
     "output_type": "stream",
     "text": [
      "              precision    recall  f1-score   support\n",
      "\n",
      "           1       0.81      0.83      0.82    129319\n",
      "           2       0.83      0.81      0.82    132818\n",
      "\n",
      "    accuracy                           0.82    262137\n",
      "   macro avg       0.82      0.82      0.82    262137\n",
      "weighted avg       0.82      0.82      0.82    262137\n",
      "\n"
     ]
    }
   ],
   "source": [
    "from sklearn.metrics import classification_report\n",
    "print(classification_report(y_test, y_pred))"
   ]
  },
  {
   "cell_type": "code",
   "execution_count": 42,
   "metadata": {},
   "outputs": [
    {
     "name": "stdout",
     "output_type": "stream",
     "text": [
      "[[106926  22393]\n",
      " [ 24829 107989]]\n"
     ]
    }
   ],
   "source": [
    "from sklearn.metrics import classification_report, confusion_matrix\n",
    "ConfMat=confusion_matrix(y_test, y_pred)\n",
    "print(ConfMat)"
   ]
  },
  {
   "cell_type": "code",
   "execution_count": 25,
   "metadata": {},
   "outputs": [
    {
     "ename": "NameError",
     "evalue": "name 'plt' is not defined",
     "output_type": "error",
     "traceback": [
      "\u001b[1;31m---------------------------------------------------------------------------\u001b[0m",
      "\u001b[1;31mNameError\u001b[0m                                 Traceback (most recent call last)",
      "\u001b[1;32m<ipython-input-25-73ba9ec29ecd>\u001b[0m in \u001b[0;36m<module>\u001b[1;34m\u001b[0m\n\u001b[0;32m     11\u001b[0m \u001b[1;33m\u001b[0m\u001b[0m\n\u001b[0;32m     12\u001b[0m \u001b[1;31m## Display the visualization of the Confusion Matrix.\u001b[0m\u001b[1;33m\u001b[0m\u001b[1;33m\u001b[0m\u001b[1;33m\u001b[0m\u001b[0m\n\u001b[1;32m---> 13\u001b[1;33m \u001b[0mplt\u001b[0m\u001b[1;33m.\u001b[0m\u001b[0mshow\u001b[0m\u001b[1;33m(\u001b[0m\u001b[1;33m)\u001b[0m\u001b[1;33m\u001b[0m\u001b[1;33m\u001b[0m\u001b[0m\n\u001b[0m",
      "\u001b[1;31mNameError\u001b[0m: name 'plt' is not defined"
     ]
    },
    {
     "data": {
      "image/png": "[encoded data removed]",
      "text/plain": [
       "<Figure size 432x288 with 2 Axes>"
      ]
     },
     "metadata": {
      "needs_background": "light"
     },
     "output_type": "display_data"
    }
   ],
   "source": [
    "import seaborn as sns\n",
    "ax = sns.heatmap(ConfMat/np.sum(ConfMat),fmt='.2%', annot=True, cmap='Blues')\n",
    "\n",
    "ax.set_title(' Confusion Matrix \\n\\n');\n",
    "ax.set_xlabel('\\n Predicted')\n",
    "ax.set_ylabel('Actual ');\n",
    "\n",
    "## Ticket labels - List must be in alphabetical order\n",
    "ax.xaxis.set_ticklabels(['1', '2'])\n",
    "ax.yaxis.set_ticklabels(['1', '2',])\n",
    "\n",
    "## Display the visualization of the Confusion Matrix.\n",
    "##plt.show()"
   ]
  },
  {
   "cell_type": "code",
   "execution_count": null,
   "metadata": {},
   "outputs": [],
   "source": [
    ".0."
   ]
  }
 ],
 "metadata": {
  "colab": {
   "name": "last.ipynb",
   "provenance": []
  },
  "kernelspec": {
   "display_name": "Python 3",
   "language": "python",
   "name": "python3"
  },
  "language_info": {
   "codemirror_mode": {
    "name": "ipython",
    "version": 3
   },
   "file_extension": ".py",
   "mimetype": "text/x-python",
   "name": "python",
   "nbconvert_exporter": "python",
   "pygments_lexer": "ipython3",
   "version": "3.8.5"
  }
 },
 "nbformat": 4,
 "nbformat_minor": 1
}
